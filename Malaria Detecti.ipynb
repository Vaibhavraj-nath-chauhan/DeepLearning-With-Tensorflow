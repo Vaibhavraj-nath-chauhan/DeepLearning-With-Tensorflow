{
 "cells": [
  {
   "cell_type": "markdown",
   "metadata": {},
   "source": [
    "# Creating Malaria Detection"
   ]
  },
  {
   "cell_type": "code",
   "execution_count": 1,
   "metadata": {},
   "outputs": [],
   "source": [
    "#collecting directories\n",
    "img_dir = \"D:\\\\ML & DL\\\\Traning Iaages\\\\mareria_cell_images\\\\cell_images\"\n"
   ]
  },
  {
   "cell_type": "code",
   "execution_count": 2,
   "metadata": {},
   "outputs": [],
   "source": [
    "from tensorflow.keras.preprocessing.image import ImageDataGenerator\n",
    "generator = ImageDataGenerator(1./255)"
   ]
  },
  {
   "cell_type": "markdown",
   "metadata": {},
   "source": [
    "#### Generating Image setup"
   ]
  },
  {
   "cell_type": "code",
   "execution_count": 3,
   "metadata": {},
   "outputs": [
    {
     "name": "stdout",
     "output_type": "stream",
     "text": [
      "Found 27558 images belonging to 2 classes.\n"
     ]
    }
   ],
   "source": [
    "img_set = generator.flow_from_directory(img_dir,batch_size=30,target_size=(150,150),class_mode=\"categorical\")"
   ]
  },
  {
   "cell_type": "code",
   "execution_count": 4,
   "metadata": {},
   "outputs": [
    {
     "data": {
      "text/plain": [
       "{'Parasitized': 0, 'Uninfected': 1}"
      ]
     },
     "execution_count": 4,
     "metadata": {},
     "output_type": "execute_result"
    }
   ],
   "source": [
    "img_set.class_indices"
   ]
  },
  {
   "cell_type": "markdown",
   "metadata": {},
   "source": [
    "#### Creating Model"
   ]
  },
  {
   "cell_type": "code",
   "execution_count": 5,
   "metadata": {},
   "outputs": [],
   "source": [
    "from tensorflow.keras.layers import MaxPool2D,Conv2D,Dense,Dropout,Flatten\n",
    "from tensorflow.keras.models import Sequential"
   ]
  },
  {
   "cell_type": "code",
   "execution_count": 12,
   "metadata": {},
   "outputs": [],
   "source": [
    "def create_model():\n",
    "    model = Sequential()\n",
    "    model.add(Conv2D(40,(4,4),activation=\"relu\",input_shape=(150,150,3)))\n",
    "    model.add(MaxPool2D(pool_size=(3,3)))\n",
    "    model.add(Dropout(.30))\n",
    "    \n",
    "    model.add(Conv2D(50,(4,4),activation=\"relu\"))\n",
    "    model.add(MaxPool2D(pool_size=(3,3)))\n",
    "    model.add(Dropout(.40))\n",
    "    \n",
    "    model.add(Flatten())\n",
    "    model.add(Dense(150,activation=\"relu\"))\n",
    "    \n",
    "    #output layer\n",
    "    model.add(Dense(2,activation=\"softmax\"))\n",
    "    model.compile(loss=\"categorical_crossentropy\",optimizer=\"adam\",metrics=[\"accuracy\"])\n",
    "    \n",
    "    return model\n",
    "    \n",
    "    "
   ]
  },
  {
   "cell_type": "code",
   "execution_count": 13,
   "metadata": {},
   "outputs": [
    {
     "name": "stderr",
     "output_type": "stream",
     "text": [
      "D:\\Anaconda\\lib\\site-packages\\keras_preprocessing\\image\\image_data_generator.py:720: UserWarning: This ImageDataGenerator specifies `featurewise_center`, but it hasn't been fit on any training data. Fit it first by calling `.fit(numpy_data)`.\n",
      "  warnings.warn('This ImageDataGenerator specifies '\n"
     ]
    },
    {
     "name": "stdout",
     "output_type": "stream",
     "text": [
      "Epoch 1/10\n",
      "919/919 [==============================] - 661s 719ms/step - loss: 4.5094 - accuracy: 0.5918\n",
      "Epoch 2/10\n",
      "919/919 [==============================] - 386s 420ms/step - loss: 0.3411 - accuracy: 0.8573\n",
      "Epoch 3/10\n",
      "919/919 [==============================] - 414s 450ms/step - loss: 0.2281 - accuracy: 0.9232\n",
      "Epoch 4/10\n",
      "919/919 [==============================] - 655s 713ms/step - loss: 0.2104 - accuracy: 0.9322\n",
      "Epoch 5/10\n",
      "919/919 [==============================] - 866s 942ms/step - loss: 0.2036 - accuracy: 0.9340\n",
      "Epoch 6/10\n",
      "919/919 [==============================] - 746s 812ms/step - loss: 0.1868 - accuracy: 0.9401\n",
      "Epoch 7/10\n",
      "919/919 [==============================] - 720s 784ms/step - loss: 0.1860 - accuracy: 0.9421\n",
      "Epoch 8/10\n",
      "919/919 [==============================] - 559s 609ms/step - loss: 0.1745 - accuracy: 0.9426\n",
      "Epoch 9/10\n",
      "919/919 [==============================] - 357s 388ms/step - loss: 0.1641 - accuracy: 0.9467\n",
      "Epoch 10/10\n",
      "919/919 [==============================] - 342s 373ms/step - loss: 0.1644 - accuracy: 0.9457\n"
     ]
    },
    {
     "data": {
      "text/plain": [
       "<tensorflow.python.keras.callbacks.History at 0x256afc094c8>"
      ]
     },
     "execution_count": 13,
     "metadata": {},
     "output_type": "execute_result"
    }
   ],
   "source": [
    "model = create_model()\n",
    "model.fit(img_set,epochs=10)"
   ]
  },
  {
   "cell_type": "code",
   "execution_count": 3,
   "metadata": {},
   "outputs": [],
   "source": [
    "from tensorflow.keras.preprocessing.image import load_img,img_to_array\n",
    "import numpy as np"
   ]
  },
  {
   "cell_type": "code",
   "execution_count": 4,
   "metadata": {},
   "outputs": [],
   "source": [
    "img = load_img(\"D:\\\\ML & DL\\\\Traning Iaages\\\\mareria_cell_images\\\\cell_images\\\\1.png\",target_size=(150,150))\n",
    "img = img_to_array(img)\n",
    "img = np.expand_dims(img,axis=0)"
   ]
  },
  {
   "cell_type": "code",
   "execution_count": 5,
   "metadata": {},
   "outputs": [
    {
     "name": "stdout",
     "output_type": "stream",
     "text": [
      "WARNING:tensorflow:From <ipython-input-5-c487e2267fc1>:1: Sequential.predict_classes (from tensorflow.python.keras.engine.sequential) is deprecated and will be removed after 2021-01-01.\n",
      "Instructions for updating:\n",
      "Please use instead:* `np.argmax(model.predict(x), axis=-1)`,   if your model does multi-class classification   (e.g. if it uses a `softmax` last-layer activation).* `(model.predict(x) > 0.5).astype(\"int32\")`,   if your model does binary classification   (e.g. if it uses a `sigmoid` last-layer activation).\n"
     ]
    },
    {
     "data": {
      "text/plain": [
       "array([0], dtype=int64)"
      ]
     },
     "execution_count": 5,
     "metadata": {},
     "output_type": "execute_result"
    }
   ],
   "source": [
    "model.predict_classes(img)"
   ]
  },
  {
   "cell_type": "code",
   "execution_count": 19,
   "metadata": {},
   "outputs": [],
   "source": [
    "model.save(\"Malaria_Testing.h5\")"
   ]
  },
  {
   "cell_type": "code",
   "execution_count": 17,
   "metadata": {},
   "outputs": [
    {
     "name": "stdout",
     "output_type": "stream",
     "text": [
      " Volume in drive C is Windows-SSD\n",
      " Volume Serial Number is B46B-76A2\n",
      "\n",
      " Directory of C:\\Users\\Vaibhavraj\\MLOPss Traning\\task\n",
      "\n",
      "10/05/2020  02:06 AM    <DIR>          .\n",
      "10/05/2020  02:06 AM    <DIR>          ..\n",
      "10/04/2020  11:59 PM    <DIR>          .ipynb_checkpoints\n",
      "09/26/2020  01:10 PM            33,439 DL Neural Network (Mnist data set).ipynb\n",
      "09/02/2020  04:50 PM             1,605 Task 1) CV2_basics_task.ipynb\n",
      "09/09/2020  08:58 AM             5,787 Task 2) Selenium Basic Task.ipynb\n",
      "09/14/2020  07:38 PM               555 Task 3) Proper Naive Bayes Algo with classes#####################.ipynb\n",
      "09/20/2020  09:08 AM             7,934 Task 4 ) KMean Learning#######.ipynb\n",
      "10/05/2020  02:06 AM             5,843 Task 4) Malaria Detection Deep Learning.ipynb\n",
      "               6 File(s)         55,163 bytes\n",
      "               3 Dir(s)  65,000,841,216 bytes free\n"
     ]
    }
   ],
   "source": [
    "ls"
   ]
  },
  {
   "cell_type": "code",
   "execution_count": 1,
   "metadata": {},
   "outputs": [],
   "source": [
    "from tensorflow.keras.models import load_model\n"
   ]
  },
  {
   "cell_type": "code",
   "execution_count": 2,
   "metadata": {},
   "outputs": [],
   "source": [
    "model = load_model(\"Malaria_Testing.h5\")"
   ]
  },
  {
   "cell_type": "code",
   "execution_count": null,
   "metadata": {},
   "outputs": [],
   "source": [
    "m"
   ]
  }
 ],
 "metadata": {
  "kernelspec": {
   "display_name": "Python 3",
   "language": "python",
   "name": "python3"
  },
  "language_info": {
   "codemirror_mode": {
    "name": "ipython",
    "version": 3
   },
   "file_extension": ".py",
   "mimetype": "text/x-python",
   "name": "python",
   "nbconvert_exporter": "python",
   "pygments_lexer": "ipython3",
   "version": "3.7.6"
  }
 },
 "nbformat": 4,
 "nbformat_minor": 4
}
