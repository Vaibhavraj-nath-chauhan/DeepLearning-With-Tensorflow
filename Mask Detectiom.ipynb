{
 "cells": [
  {
   "cell_type": "markdown",
   "metadata": {},
   "source": [
    "## <center>Mask Detection</center>"
   ]
  },
  {
   "cell_type": "markdown",
   "metadata": {
    "id": "pInXb13KeLID"
   },
   "source": [
    "This file is of colab\n",
    "1. Run this in colab\n",
    "2. Upper Commands are aslo of colab \n",
    "3. Here we will train our model and save it\n",
    "4. Then apply this in our part -2(Saved model)"
   ]
  },
  {
   "cell_type": "code",
   "execution_count": null,
   "metadata": {
    "colab": {
     "base_uri": "https://localhost:8080/",
     "height": 202
    },
    "id": "v5l2CMz2HAW0",
    "outputId": "0a15b07a-d708-4b64-f2df-4a7174f20a7e"
   },
   "outputs": [],
   "source": [
    "!wget https://www.techsimplus.com/media/Mask_noMask.zip"
   ]
  },
  {
   "cell_type": "code",
   "execution_count": null,
   "metadata": {
    "colab": {
     "base_uri": "https://localhost:8080/",
     "height": 1000
    },
    "id": "QZF3IOSEeg30",
    "outputId": "1069ea6b-03f4-414e-ead3-62679f0ceab7"
   },
   "outputs": [],
   "source": [
    "!unzip Mask_noMask.zip"
   ]
  },
  {
   "cell_type": "markdown",
   "metadata": {
    "id": "e7HlwTOPerxz"
   },
   "source": [
    "Now we are imoorting libraries"
   ]
  },
  {
   "cell_type": "code",
   "execution_count": 3,
   "metadata": {
    "id": "MLtFiVujewCU"
   },
   "outputs": [],
   "source": [
    "from tensorflow.keras.models import Model,load_model\n",
    "from tensorflow.keras.layers import Flatten,Dropout,Dense,Input\n",
    "from tensorflow.keras.preprocessing.image import img_to_array,load_img,ImageDataGenerator\n",
    "from tensorflow.keras.applications import VGG19\n",
    "from sklearn.model_selection import train_test_split\n",
    "from tensorflow.keras.applications.imagenet_utils import preprocess_input\n",
    "from tensorflow.keras.utils import to_categorical\n",
    "from sklearn.preprocessing import LabelBinarizer\n",
    "import os\n",
    "import numpy as np\n"
   ]
  },
  {
   "cell_type": "markdown",
   "metadata": {
    "id": "DRYperWsiKMl"
   },
   "source": [
    "Creating path of images"
   ]
  },
  {
   "cell_type": "code",
   "execution_count": 6,
   "metadata": {
    "id": "y4OndLbMf-qG"
   },
   "outputs": [],
   "source": [
    "image_path = []\n",
    "for i in os.listdir(\"./dataset/\"):\n",
    "  for img in os.listdir(\"./dataset/\"+i):\n",
    "    path = \"./dataset/\"+i+\"/\"+img\n",
    "    image_path.append(path)"
   ]
  },
  {
   "cell_type": "code",
   "execution_count": 7,
   "metadata": {
    "colab": {
     "base_uri": "https://localhost:8080/",
     "height": 185
    },
    "id": "Ojrpn41agmI0",
    "outputId": "bc4302ad-642d-4707-99ee-c0226c4eac0d"
   },
   "outputs": [
    {
     "data": {
      "text/plain": [
       "['./dataset/without_mask/augmented_image_72.jpg',\n",
       " './dataset/without_mask/augmented_image_94.jpg',\n",
       " './dataset/without_mask/403.jpg',\n",
       " './dataset/without_mask/7.jpg',\n",
       " './dataset/without_mask/18.jpg',\n",
       " './dataset/without_mask/248.jpg',\n",
       " './dataset/without_mask/392.jpg',\n",
       " './dataset/without_mask/184.jpg',\n",
       " './dataset/without_mask/341.jpg',\n",
       " './dataset/without_mask/augmented_image_18.jpg']"
      ]
     },
     "execution_count": 7,
     "metadata": {
      "tags": []
     },
     "output_type": "execute_result"
    }
   ],
   "source": [
    "image_path[:10]"
   ]
  },
  {
   "cell_type": "markdown",
   "metadata": {
    "id": "6JobBdQHigM4"
   },
   "source": [
    "Creating our labels and data"
   ]
  },
  {
   "cell_type": "code",
   "execution_count": 9,
   "metadata": {
    "id": "REAKH1fPgqQM"
   },
   "outputs": [],
   "source": [
    "img_data = []\n",
    "labels = []\n",
    "for i in image_path:\n",
    "  label = i.split(\"/\")[-2]             #as we see our path at -2 we have mask and without mask so we will get that part by splitting and we will pass this in labelbinize\n",
    "  img = load_img(i,target_size=(224,224))   #target size is 224,224 because we have VGG19 model which take 224,224 as input image\n",
    "  img = img_to_array(img)\n",
    "  img = preprocess_input(img)               #convert data into arrya of tensorflow floast-32\n",
    "  img_data.append(img)\n",
    "  labels.append(label)\n",
    "img_data = np.array(img_data)\n",
    "labels = np.array(labels)\n",
    "\n"
   ]
  },
  {
   "cell_type": "code",
   "execution_count": 16,
   "metadata": {
    "colab": {
     "base_uri": "https://localhost:8080/",
     "height": 67
    },
    "id": "1OOhuXemlbns",
    "outputId": "af093acc-cdd0-4e86-c138-f40fbeeb84ef"
   },
   "outputs": [
    {
     "data": {
      "text/plain": [
       "array(['without_mask', 'without_mask', 'without_mask', 'without_mask',\n",
       "       'without_mask', 'without_mask', 'without_mask', 'without_mask',\n",
       "       'without_mask', 'without_mask'], dtype='<U12')"
      ]
     },
     "execution_count": 16,
     "metadata": {
      "tags": []
     },
     "output_type": "execute_result"
    }
   ],
   "source": [
    "labels[:10]"
   ]
  },
  {
   "cell_type": "code",
   "execution_count": 11,
   "metadata": {
    "id": "tWy9TJm0j0P7"
   },
   "outputs": [],
   "source": [
    "label = LabelBinarizer()                              #calling LabelBinarizer \n",
    "Label = label.fit_transform(labels)                   #converting text(mask, no mask) into 0 and 1\n",
    "Label = to_categorical(Label)                         #converting into [0,1],[1,0] format(Softmax layer)"
   ]
  },
  {
   "cell_type": "code",
   "execution_count": 15,
   "metadata": {
    "colab": {
     "base_uri": "https://localhost:8080/",
     "height": 185
    },
    "id": "s09Ax-LYk4XV",
    "outputId": "6ca09ac7-5cd3-4e3e-e425-9026b0acf1cc"
   },
   "outputs": [
    {
     "data": {
      "text/plain": [
       "array([[0., 1.],\n",
       "       [0., 1.],\n",
       "       [0., 1.],\n",
       "       [0., 1.],\n",
       "       [0., 1.],\n",
       "       [0., 1.],\n",
       "       [0., 1.],\n",
       "       [0., 1.],\n",
       "       [0., 1.],\n",
       "       [0., 1.]], dtype=float32)"
      ]
     },
     "execution_count": 15,
     "metadata": {
      "tags": []
     },
     "output_type": "execute_result"
    }
   ],
   "source": [
    "Label[:10]"
   ]
  },
  {
   "cell_type": "markdown",
   "metadata": {
    "id": "ajzZLJHJlm1d"
   },
   "source": [
    "Splitting Data"
   ]
  },
  {
   "cell_type": "code",
   "execution_count": 33,
   "metadata": {
    "id": "fIeoj441lago"
   },
   "outputs": [],
   "source": [
    "trainX,testX,trainY,testY = train_test_split(img_data,Label,test_size=.2)"
   ]
  },
  {
   "cell_type": "markdown",
   "metadata": {
    "id": "g3E36xSjl2Vj"
   },
   "source": [
    "Processing image generation "
   ]
  },
  {
   "cell_type": "code",
   "execution_count": 18,
   "metadata": {
    "id": "Op4wCxjVlyKZ"
   },
   "outputs": [],
   "source": [
    "#we will call this step in fit model part\n",
    "img_generation = ImageDataGenerator(rotation_range=30,\n",
    "                                    height_shift_range=.1,\n",
    "                                    width_shift_range=.1,\n",
    "                                    zoom_range=.2,\n",
    "                                    horizontal_flip=True,\n",
    "                                    fill_mode=\"nearest\")"
   ]
  },
  {
   "cell_type": "markdown",
   "metadata": {
    "id": "VcIAL4tLmmc7"
   },
   "source": [
    "Calling pretrained model with removed output layers"
   ]
  },
  {
   "cell_type": "code",
   "execution_count": 20,
   "metadata": {
    "colab": {
     "base_uri": "https://localhost:8080/",
     "height": 50
    },
    "id": "AXaHgQJ_mO7f",
    "outputId": "4f3658ff-97e5-4b4f-f37d-a4e0a53fe8c9"
   },
   "outputs": [
    {
     "name": "stdout",
     "output_type": "stream",
     "text": [
      "Downloading data from https://storage.googleapis.com/tensorflow/keras-applications/vgg19/vgg19_weights_tf_dim_ordering_tf_kernels_notop.h5\n",
      "80142336/80134624 [==============================] - 1s 0us/step\n"
     ]
    }
   ],
   "source": [
    "baseModel = VGG19(include_top=False,input_tensor=Input(shape=(224,224,3)))"
   ]
  },
  {
   "cell_type": "code",
   "execution_count": 24,
   "metadata": {
    "id": "C_q941tgmlzt"
   },
   "outputs": [],
   "source": [
    "headModel = baseModel.output\n",
    "headModel = Flatten(name=\"MY_Add\")(headModel)\n",
    "headModel = Dense(300,activation=\"relu\",name=\"My_Add_2\")(headModel)\n",
    "headModel = Dropout(.5)(headModel)\n",
    "\n",
    "#output layer\n",
    "headModel = Dense(2,activation=\"softmax\",name=\"My_Add_3\")(headModel)\n",
    "\n",
    "#merting output and input layers\n",
    "model = Model(inputs=baseModel.input,outputs=headModel)"
   ]
  },
  {
   "cell_type": "code",
   "execution_count": 26,
   "metadata": {
    "colab": {
     "base_uri": "https://localhost:8080/",
     "height": 1000
    },
    "id": "yMyzcVdRnru2",
    "outputId": "36896ed0-f4e2-48b4-fc31-1ae0733ea1de"
   },
   "outputs": [
    {
     "name": "stdout",
     "output_type": "stream",
     "text": [
      "Model: \"functional_1\"\n",
      "_________________________________________________________________\n",
      "Layer (type)                 Output Shape              Param #   \n",
      "=================================================================\n",
      "input_2 (InputLayer)         [(None, 224, 224, 3)]     0         \n",
      "_________________________________________________________________\n",
      "block1_conv1 (Conv2D)        (None, 224, 224, 64)      1792      \n",
      "_________________________________________________________________\n",
      "block1_conv2 (Conv2D)        (None, 224, 224, 64)      36928     \n",
      "_________________________________________________________________\n",
      "block1_pool (MaxPooling2D)   (None, 112, 112, 64)      0         \n",
      "_________________________________________________________________\n",
      "block2_conv1 (Conv2D)        (None, 112, 112, 128)     73856     \n",
      "_________________________________________________________________\n",
      "block2_conv2 (Conv2D)        (None, 112, 112, 128)     147584    \n",
      "_________________________________________________________________\n",
      "block2_pool (MaxPooling2D)   (None, 56, 56, 128)       0         \n",
      "_________________________________________________________________\n",
      "block3_conv1 (Conv2D)        (None, 56, 56, 256)       295168    \n",
      "_________________________________________________________________\n",
      "block3_conv2 (Conv2D)        (None, 56, 56, 256)       590080    \n",
      "_________________________________________________________________\n",
      "block3_conv3 (Conv2D)        (None, 56, 56, 256)       590080    \n",
      "_________________________________________________________________\n",
      "block3_conv4 (Conv2D)        (None, 56, 56, 256)       590080    \n",
      "_________________________________________________________________\n",
      "block3_pool (MaxPooling2D)   (None, 28, 28, 256)       0         \n",
      "_________________________________________________________________\n",
      "block4_conv1 (Conv2D)        (None, 28, 28, 512)       1180160   \n",
      "_________________________________________________________________\n",
      "block4_conv2 (Conv2D)        (None, 28, 28, 512)       2359808   \n",
      "_________________________________________________________________\n",
      "block4_conv3 (Conv2D)        (None, 28, 28, 512)       2359808   \n",
      "_________________________________________________________________\n",
      "block4_conv4 (Conv2D)        (None, 28, 28, 512)       2359808   \n",
      "_________________________________________________________________\n",
      "block4_pool (MaxPooling2D)   (None, 14, 14, 512)       0         \n",
      "_________________________________________________________________\n",
      "block5_conv1 (Conv2D)        (None, 14, 14, 512)       2359808   \n",
      "_________________________________________________________________\n",
      "block5_conv2 (Conv2D)        (None, 14, 14, 512)       2359808   \n",
      "_________________________________________________________________\n",
      "block5_conv3 (Conv2D)        (None, 14, 14, 512)       2359808   \n",
      "_________________________________________________________________\n",
      "block5_conv4 (Conv2D)        (None, 14, 14, 512)       2359808   \n",
      "_________________________________________________________________\n",
      "block5_pool (MaxPooling2D)   (None, 7, 7, 512)         0         \n",
      "_________________________________________________________________\n",
      "MY_Add (Flatten)             (None, 25088)             0         \n",
      "_________________________________________________________________\n",
      "My_Add_2 (Dense)             (None, 300)               7526700   \n",
      "_________________________________________________________________\n",
      "dropout_1 (Dropout)          (None, 300)               0         \n",
      "_________________________________________________________________\n",
      "My_Add_3 (Dense)             (None, 2)                 602       \n",
      "=================================================================\n",
      "Total params: 27,551,686\n",
      "Trainable params: 27,551,686\n",
      "Non-trainable params: 0\n",
      "_________________________________________________________________\n"
     ]
    }
   ],
   "source": [
    "model.summary()"
   ]
  },
  {
   "cell_type": "markdown",
   "metadata": {
    "id": "w_1Fdy9hoFWq"
   },
   "source": [
    "Stopping layer to create new baits"
   ]
  },
  {
   "cell_type": "code",
   "execution_count": 27,
   "metadata": {
    "id": "8alg-159n-Ow"
   },
   "outputs": [],
   "source": [
    "for layer in baseModel.layers:\n",
    "  layer.trainable = False"
   ]
  },
  {
   "cell_type": "markdown",
   "metadata": {
    "id": "KCTD9gtGokTo"
   },
   "source": [
    "Compiling Model"
   ]
  },
  {
   "cell_type": "code",
   "execution_count": 31,
   "metadata": {
    "id": "jCQyxxf0oZ3z"
   },
   "outputs": [],
   "source": [
    "model.compile(loss=\"categorical_crossentropy\",optimizer=\"adam\",metrics=[\"accuracy\"])"
   ]
  },
  {
   "cell_type": "markdown",
   "metadata": {
    "id": "LC0N3hi_o9gZ"
   },
   "source": [
    "Traning Data"
   ]
  },
  {
   "cell_type": "code",
   "execution_count": 34,
   "metadata": {
    "colab": {
     "base_uri": "https://localhost:8080/",
     "height": 185
    },
    "id": "AtUpfTzPozMU",
    "outputId": "fc2ace46-093f-4c5b-a683-89e54fb15c50"
   },
   "outputs": [
    {
     "name": "stdout",
     "output_type": "stream",
     "text": [
      "Epoch 1/5\n",
      "28/28 [==============================] - 12s 417ms/step - loss: 1.6939 - accuracy: 0.9491 - val_loss: 1.7107 - val_accuracy: 0.9819\n",
      "Epoch 2/5\n",
      "28/28 [==============================] - 11s 386ms/step - loss: 0.6132 - accuracy: 0.9873 - val_loss: 0.3933 - val_accuracy: 0.9928\n",
      "Epoch 3/5\n",
      "28/28 [==============================] - 11s 386ms/step - loss: 0.9193 - accuracy: 0.9900 - val_loss: 0.6385 - val_accuracy: 0.9928\n",
      "Epoch 4/5\n",
      "28/28 [==============================] - 11s 388ms/step - loss: 0.5430 - accuracy: 0.9955 - val_loss: 1.1926 - val_accuracy: 0.9928\n",
      "Epoch 5/5\n",
      "28/28 [==============================] - 11s 388ms/step - loss: 1.2399 - accuracy: 0.9873 - val_loss: 0.8457 - val_accuracy: 0.9928\n"
     ]
    }
   ],
   "source": [
    "his = model.fit(img_generation.flow(trainX,trainY,batch_size=40),epochs=5,validation_data=(testX,testY))"
   ]
  },
  {
   "cell_type": "markdown",
   "metadata": {
    "id": "Q3_GmkV-py_k"
   },
   "source": [
    "Ploting Graph"
   ]
  },
  {
   "cell_type": "code",
   "execution_count": 41,
   "metadata": {
    "id": "msntLOTgpeiq"
   },
   "outputs": [],
   "source": [
    "loss = his.history[\"loss\"]\n",
    "accuracy = his.history[\"accuracy\"]\n",
    "val_loss  = his.history[\"val_loss\"]\n",
    "val_accuracy  = his.history[\"val_accuracy\"]\n",
    "\n",
    "import pandas as pd\n",
    "acc_df = pd.DataFrame({\n",
    "    \"acc\":accuracy,\n",
    "    \"val_acc\":val_accuracy\n",
    "})\n",
    "\n",
    "loss_df = pd.DataFrame({\n",
    "    \"loss\":loss,\n",
    "    \"val_loss\":val_loss\n",
    "})"
   ]
  },
  {
   "cell_type": "code",
   "execution_count": 42,
   "metadata": {
    "colab": {
     "base_uri": "https://localhost:8080/",
     "height": 282
    },
    "id": "EcCzSJQFqKaR",
    "outputId": "9c512743-0ba8-4a53-805e-89007dc0c0f3"
   },
   "outputs": [
    {
     "data": {
      "text/plain": [
       "<matplotlib.axes._subplots.AxesSubplot at 0x7f18ce4a6ba8>"
      ]
     },
     "execution_count": 42,
     "metadata": {
      "tags": []
     },
     "output_type": "execute_result"
    },
    {
     "data": {
      "image/png": "[encoded data removed]",
      "text/plain": [
       "<Figure size 432x288 with 1 Axes>"
      ]
     },
     "metadata": {
      "needs_background": "light",
      "tags": []
     },
     "output_type": "display_data"
    }
   ],
   "source": [
    "acc_df.plot()"
   ]
  },
  {
   "cell_type": "code",
   "execution_count": 43,
   "metadata": {
    "colab": {
     "base_uri": "https://localhost:8080/",
     "height": 282
    },
    "id": "rGD7xCabrBo3",
    "outputId": "fcfa4924-970e-4a57-b5c0-f6ab7b04c985"
   },
   "outputs": [
    {
     "data": {
      "text/plain": [
       "<matplotlib.axes._subplots.AxesSubplot at 0x7f16bed61780>"
      ]
     },
     "execution_count": 43,
     "metadata": {
      "tags": []
     },
     "output_type": "execute_result"
    },
    {
     "data": {
      "image/png": "[encoded data removed]",
      "text/plain": [
       "<Figure size 432x288 with 1 Axes>"
      ]
     },
     "metadata": {
      "needs_background": "light",
      "tags": []
     },
     "output_type": "display_data"
    }
   ],
   "source": [
    "loss_df.plot()"
   ]
  },
  {
   "cell_type": "markdown",
   "metadata": {
    "id": "nk_8D_LKrNbd"
   },
   "source": [
    "Predecting Image "
   ]
  },
  {
   "cell_type": "code",
   "execution_count": 56,
   "metadata": {
    "id": "ZhXvnMN4rDxy"
   },
   "outputs": [],
   "source": [
    "img = load_img(\"kt.jpg\",target_size=(224,224))\n",
    "img = img_to_array(img)\n",
    "img = np.expand_dims(img,axis=0)\n",
    "img = preprocess_input(img)\n",
    "\n"
   ]
  },
  {
   "cell_type": "code",
   "execution_count": 57,
   "metadata": {
    "colab": {
     "base_uri": "https://localhost:8080/",
     "height": 34
    },
    "id": "Jt7h2kLRsATb",
    "outputId": "ad7e6d8c-d3d7-4184-8942-7bd3d85af3e1"
   },
   "outputs": [
    {
     "data": {
      "text/plain": [
       "array([[1., 0.]], dtype=float32)"
      ]
     },
     "execution_count": 57,
     "metadata": {
      "tags": []
     },
     "output_type": "execute_result"
    }
   ],
   "source": [
    "model.predict(img)"
   ]
  }
 ],
 "metadata": {
  "accelerator": "GPU",
  "colab": {
   "collapsed_sections": [],
   "machine_shape": "hm",
   "name": "Project 8) Mask Detection(Part-1)",
   "provenance": []
  },
  "kernelspec": {
   "display_name": "Python 3",
   "language": "python",
   "name": "python3"
  },
  "language_info": {
   "codemirror_mode": {
    "name": "ipython",
    "version": 3
   },
   "file_extension": ".py",
   "mimetype": "text/x-python",
   "name": "python",
   "nbconvert_exporter": "python",
   "pygments_lexer": "ipython3",
   "version": "3.7.6"
  }
 },
 "nbformat": 4,
 "nbformat_minor": 1
}
